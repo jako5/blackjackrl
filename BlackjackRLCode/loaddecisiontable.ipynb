{
 "cells": [
  {
   "cell_type": "code",
   "execution_count": 92,
   "id": "initial_id",
   "metadata": {
    "collapsed": true,
    "ExecuteTime": {
     "end_time": "2024-02-25T14:44:08.457294600Z",
     "start_time": "2024-02-25T14:44:08.393688200Z"
    }
   },
   "outputs": [],
   "source": [
    "import pandas as pd\n",
    "import numpy as np"
   ]
  },
  {
   "cell_type": "code",
   "execution_count": 109,
   "outputs": [
    {
     "data": {
      "text/plain": "{17: {'2': 'S',\n  '3': 'S',\n  '4': 'S',\n  '5': 'S',\n  '6': 'S',\n  '7': 'S',\n  '8': 'S',\n  '9': 'S',\n  '10': 'S',\n  '11': 'S',\n  'J': 'S',\n  'K': 'S',\n  'Q': 'S'},\n 16: {'2': 'S',\n  '3': 'S',\n  '4': 'S',\n  '5': 'S',\n  '6': 'S',\n  '7': 'H',\n  '8': 'H',\n  '9': 'H',\n  '10': 'H',\n  '11': 'H',\n  'J': 'H',\n  'K': 'H',\n  'Q': 'H'},\n 15: {'2': 'S',\n  '3': 'S',\n  '4': 'S',\n  '5': 'S',\n  '6': 'S',\n  '7': 'H',\n  '8': 'H',\n  '9': 'H',\n  '10': 'H',\n  '11': 'H',\n  'J': 'H',\n  'K': 'H',\n  'Q': 'H'},\n 14: {'2': 'S',\n  '3': 'S',\n  '4': 'S',\n  '5': 'S',\n  '6': 'S',\n  '7': 'H',\n  '8': 'H',\n  '9': 'H',\n  '10': 'H',\n  '11': 'H',\n  'J': 'H',\n  'K': 'H',\n  'Q': 'H'},\n 13: {'2': 'S',\n  '3': 'S',\n  '4': 'S',\n  '5': 'S',\n  '6': 'S',\n  '7': 'H',\n  '8': 'H',\n  '9': 'H',\n  '10': 'H',\n  '11': 'H',\n  'J': 'H',\n  'K': 'H',\n  'Q': 'H'},\n 12: {'2': 'H',\n  '3': 'H',\n  '4': 'S',\n  '5': 'S',\n  '6': 'S',\n  '7': 'H',\n  '8': 'H',\n  '9': 'H',\n  '10': 'H',\n  '11': 'H',\n  'J': 'H',\n  'K': 'H',\n  'Q': 'H'},\n 11: {'2': 'D',\n  '3': 'D',\n  '4': 'D',\n  '5': 'D',\n  '6': 'D',\n  '7': 'D',\n  '8': 'D',\n  '9': 'D',\n  '10': 'D',\n  '11': 'D',\n  'J': 'D',\n  'K': 'D',\n  'Q': 'D'},\n 10: {'2': 'D',\n  '3': 'D',\n  '4': 'D',\n  '5': 'D',\n  '6': 'D',\n  '7': 'D',\n  '8': 'D',\n  '9': 'D',\n  '10': 'H',\n  '11': 'H',\n  'J': 'H',\n  'K': 'H',\n  'Q': 'H'},\n 9: {'2': 'D',\n  '3': 'D',\n  '4': 'D',\n  '5': 'D',\n  '6': 'D',\n  '7': 'H',\n  '8': 'H',\n  '9': 'H',\n  '10': 'H',\n  '11': 'H',\n  'J': 'H',\n  'K': 'H',\n  'Q': 'H'},\n 8: {'2': 'H',\n  '3': 'H',\n  '4': 'H',\n  '5': 'D',\n  '6': 'D',\n  '7': 'H',\n  '8': 'H',\n  '9': 'H',\n  '10': 'H',\n  '11': 'H',\n  'J': 'H',\n  'K': 'H',\n  'Q': 'H'},\n 7: {'2': 'H',\n  '3': 'H',\n  '4': 'H',\n  '5': 'H',\n  '6': 'H',\n  '7': 'H',\n  '8': 'H',\n  '9': 'H',\n  '10': 'H',\n  '11': 'H',\n  'J': 'H',\n  'K': 'H',\n  'Q': 'H'},\n 20: {'2': 'S',\n  '3': 'S',\n  '4': 'S',\n  '5': 'S',\n  '6': 'S',\n  '7': 'S',\n  '8': 'S',\n  '9': 'S',\n  '10': 'S',\n  '11': 'S',\n  'J': 'S',\n  'K': 'S',\n  'Q': 'S'},\n 19: {'2': 'S',\n  '3': 'S',\n  '4': 'S',\n  '5': 'S',\n  '6': 'S',\n  '7': 'S',\n  '8': 'S',\n  '9': 'S',\n  '10': 'S',\n  '11': 'S',\n  'J': 'S',\n  'K': 'S',\n  'Q': 'S'},\n 18: {'2': 'S',\n  '3': 'S',\n  '4': 'S',\n  '5': 'S',\n  '6': 'S',\n  '7': 'S',\n  '8': 'S',\n  '9': 'S',\n  '10': 'S',\n  '11': 'S',\n  'J': 'S',\n  'K': 'S',\n  'Q': 'S'}}"
     },
     "execution_count": 109,
     "metadata": {},
     "output_type": "execute_result"
    }
   ],
   "source": [
    "\n",
    "\n",
    "df_dict"
   ],
   "metadata": {
    "collapsed": false,
    "ExecuteTime": {
     "end_time": "2024-02-25T14:51:20.544459200Z",
     "start_time": "2024-02-25T14:51:20.497584400Z"
    }
   },
   "id": "e9dfb28d660bffe0"
  },
  {
   "cell_type": "code",
   "execution_count": null,
   "outputs": [],
   "source": [],
   "metadata": {
    "collapsed": false
   },
   "id": "29a6ee7547cf1a48"
  },
  {
   "cell_type": "code",
   "execution_count": 94,
   "outputs": [
    {
     "data": {
      "text/plain": "13"
     },
     "execution_count": 94,
     "metadata": {},
     "output_type": "execute_result"
    }
   ],
   "source": [
    "cols = df.columns.tolist()\n",
    "rows = df.index.tolist()\n",
    "len(cols)"
   ],
   "metadata": {
    "collapsed": false,
    "ExecuteTime": {
     "end_time": "2024-02-25T14:44:08.552534700Z",
     "start_time": "2024-02-25T14:44:08.425599100Z"
    }
   },
   "id": "443d0e64f3d13f42"
  },
  {
   "cell_type": "code",
   "execution_count": 95,
   "outputs": [
    {
     "data": {
      "text/plain": "[17, 16, 15, 14, 13, 12, 11, 10, 9, 8, 7]"
     },
     "execution_count": 95,
     "metadata": {},
     "output_type": "execute_result"
    }
   ],
   "source": [
    "rows"
   ],
   "metadata": {
    "collapsed": false,
    "ExecuteTime": {
     "end_time": "2024-02-25T14:44:08.552534700Z",
     "start_time": "2024-02-25T14:44:08.442874200Z"
    }
   },
   "id": "f731f56c24025b87"
  },
  {
   "cell_type": "code",
   "execution_count": 96,
   "outputs": [
    {
     "data": {
      "text/plain": "['2', '3', '4', '5', '6', '7', '8', '9', '10', 'A', 'J', 'Q', 'K']"
     },
     "execution_count": 96,
     "metadata": {},
     "output_type": "execute_result"
    }
   ],
   "source": [
    "cols"
   ],
   "metadata": {
    "collapsed": false,
    "ExecuteTime": {
     "end_time": "2024-02-25T14:44:08.552534700Z",
     "start_time": "2024-02-25T14:44:08.457294600Z"
    }
   },
   "id": "63857c13bef02693"
  },
  {
   "cell_type": "code",
   "execution_count": 97,
   "outputs": [],
   "source": [
    "testcols = (np.random.random(1000)*(len(cols))).astype(int)\n",
    "testrows = (np.random.random(1000)*(len(rows))).astype(int)"
   ],
   "metadata": {
    "collapsed": false,
    "ExecuteTime": {
     "end_time": "2024-02-25T14:44:08.552534700Z",
     "start_time": "2024-02-25T14:44:08.462353200Z"
    }
   },
   "id": "36958cdf3fed776f"
  },
  {
   "cell_type": "code",
   "execution_count": 98,
   "outputs": [],
   "source": [
    "dfdict = df.to_dict()\n",
    "dfarr = df.to_numpy()"
   ],
   "metadata": {
    "collapsed": false,
    "ExecuteTime": {
     "end_time": "2024-02-25T14:44:08.552534700Z",
     "start_time": "2024-02-25T14:44:08.473169200Z"
    }
   },
   "id": "a05589373e3b3fa8"
  },
  {
   "cell_type": "code",
   "execution_count": 99,
   "outputs": [],
   "source": [
    "from time import time"
   ],
   "metadata": {
    "collapsed": false,
    "ExecuteTime": {
     "end_time": "2024-02-25T14:44:08.552534700Z",
     "start_time": "2024-02-25T14:44:08.489326Z"
    }
   },
   "id": "d31c9e97b9427325"
  },
  {
   "cell_type": "code",
   "execution_count": 100,
   "outputs": [
    {
     "name": "stdout",
     "output_type": "stream",
     "text": [
      "0.012020587921142578\n"
     ]
    }
   ],
   "source": [
    "st = time()\n",
    "for _ in range(100000):\n",
    "    x = dfdict[\"8\"][9]\n",
    "print(time()-st)"
   ],
   "metadata": {
    "collapsed": false,
    "ExecuteTime": {
     "end_time": "2024-02-25T14:44:08.552534700Z",
     "start_time": "2024-02-25T14:44:08.493193900Z"
    }
   },
   "id": "faf7ae45e6d19745"
  },
  {
   "cell_type": "code",
   "execution_count": 101,
   "outputs": [
    {
     "name": "stdout",
     "output_type": "stream",
     "text": [
      "4.163233280181885\n"
     ]
    }
   ],
   "source": [
    "st = time()\n",
    "for _ in range(100000):\n",
    "    x = df.loc[8][\"9\"]\n",
    "print(time()-st)"
   ],
   "metadata": {
    "collapsed": false,
    "ExecuteTime": {
     "end_time": "2024-02-25T14:44:12.699716100Z",
     "start_time": "2024-02-25T14:44:08.512218100Z"
    }
   },
   "id": "cfd2a18672f13f76"
  },
  {
   "cell_type": "code",
   "execution_count": 102,
   "outputs": [
    {
     "name": "stdout",
     "output_type": "stream",
     "text": [
      "0.016066551208496094\n"
     ]
    }
   ],
   "source": [
    "st = time()\n",
    "for _ in range(100000):\n",
    "    x = dfarr[8,8]\n",
    "print(time()-st)"
   ],
   "metadata": {
    "collapsed": false,
    "ExecuteTime": {
     "end_time": "2024-02-25T14:44:12.777833900Z",
     "start_time": "2024-02-25T14:44:12.683649500Z"
    }
   },
   "id": "582c0770e783f900"
  },
  {
   "cell_type": "code",
   "execution_count": 103,
   "outputs": [],
   "source": [
    "\n",
    "for c in testcols:\n",
    "    for r in testrows:\n",
    "        x = df.loc[rows[r],cols[c]]"
   ],
   "metadata": {
    "collapsed": false,
    "ExecuteTime": {
     "end_time": "2024-02-25T14:44:23.864185200Z",
     "start_time": "2024-02-25T14:44:12.715192800Z"
    }
   },
   "id": "a5bcdb05811ef684"
  }
 ],
 "metadata": {
  "kernelspec": {
   "display_name": "Python 3",
   "language": "python",
   "name": "python3"
  },
  "language_info": {
   "codemirror_mode": {
    "name": "ipython",
    "version": 2
   },
   "file_extension": ".py",
   "mimetype": "text/x-python",
   "name": "python",
   "nbconvert_exporter": "python",
   "pygments_lexer": "ipython2",
   "version": "2.7.6"
  }
 },
 "nbformat": 4,
 "nbformat_minor": 5
}
